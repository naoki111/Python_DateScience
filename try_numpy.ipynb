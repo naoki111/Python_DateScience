{
 "cells": [
  {
   "cell_type": "code",
   "execution_count": 1,
   "id": "c805a77a",
   "metadata": {},
   "outputs": [],
   "source": [
    "a = [10,11,12,13,14,15]"
   ]
  },
  {
   "cell_type": "code",
   "execution_count": 2,
   "id": "70e71427",
   "metadata": {},
   "outputs": [],
   "source": [
    "import numpy as np"
   ]
  },
  {
   "cell_type": "code",
   "execution_count": 6,
   "id": "4b92d000",
   "metadata": {},
   "outputs": [],
   "source": [
    "n_a = np.array(a)"
   ]
  },
  {
   "cell_type": "code",
   "execution_count": 7,
   "id": "ce0f22a9",
   "metadata": {},
   "outputs": [
    {
     "data": {
      "text/plain": [
       "array([10, 11, 12, 13, 14, 15])"
      ]
     },
     "execution_count": 7,
     "metadata": {},
     "output_type": "execute_result"
    }
   ],
   "source": [
    "n_a"
   ]
  },
  {
   "cell_type": "code",
   "execution_count": 9,
   "id": "a8656506",
   "metadata": {},
   "outputs": [
    {
     "data": {
      "text/plain": [
       "10"
      ]
     },
     "execution_count": 9,
     "metadata": {},
     "output_type": "execute_result"
    }
   ],
   "source": [
    "n_a[0]"
   ]
  },
  {
   "cell_type": "code",
   "execution_count": 12,
   "id": "9c97beff",
   "metadata": {},
   "outputs": [
    {
     "data": {
      "text/plain": [
       "11"
      ]
     },
     "execution_count": 12,
     "metadata": {},
     "output_type": "execute_result"
    }
   ],
   "source": [
    "n_a[1]"
   ]
  },
  {
   "cell_type": "code",
   "execution_count": 16,
   "id": "3031809c",
   "metadata": {},
   "outputs": [],
   "source": [
    "last_index = len(n_a)-1"
   ]
  },
  {
   "cell_type": "code",
   "execution_count": 17,
   "id": "01f7d041",
   "metadata": {},
   "outputs": [
    {
     "data": {
      "text/plain": [
       "15"
      ]
     },
     "execution_count": 17,
     "metadata": {},
     "output_type": "execute_result"
    }
   ],
   "source": [
    "n_a[last_index]"
   ]
  },
  {
   "cell_type": "code",
   "execution_count": 19,
   "id": "ab91c22a",
   "metadata": {},
   "outputs": [
    {
     "data": {
      "text/plain": [
       "14"
      ]
     },
     "execution_count": 19,
     "metadata": {},
     "output_type": "execute_result"
    }
   ],
   "source": [
    "n_a[-2]"
   ]
  },
  {
   "cell_type": "code",
   "execution_count": 20,
   "id": "ddadec39",
   "metadata": {},
   "outputs": [
    {
     "data": {
      "text/plain": [
       "array([10, 11, 12])"
      ]
     },
     "execution_count": 20,
     "metadata": {},
     "output_type": "execute_result"
    }
   ],
   "source": [
    "n_a[:3]"
   ]
  },
  {
   "cell_type": "code",
   "execution_count": 21,
   "id": "c0be9d88",
   "metadata": {},
   "outputs": [
    {
     "data": {
      "text/plain": [
       "array([13, 14, 15])"
      ]
     },
     "execution_count": 21,
     "metadata": {},
     "output_type": "execute_result"
    }
   ],
   "source": [
    "n_a[3:6]"
   ]
  },
  {
   "cell_type": "code",
   "execution_count": 22,
   "id": "af181f3e",
   "metadata": {},
   "outputs": [
    {
     "data": {
      "text/plain": [
       "array([13, 14, 15])"
      ]
     },
     "execution_count": 22,
     "metadata": {},
     "output_type": "execute_result"
    }
   ],
   "source": [
    "n_a[3:]"
   ]
  },
  {
   "cell_type": "code",
   "execution_count": 23,
   "id": "8cf8298c",
   "metadata": {},
   "outputs": [
    {
     "data": {
      "text/plain": [
       "array([11, 12, 13, 14, 15])"
      ]
     },
     "execution_count": 23,
     "metadata": {},
     "output_type": "execute_result"
    }
   ],
   "source": [
    "n_a[1:]"
   ]
  },
  {
   "cell_type": "code",
   "execution_count": 26,
   "id": "fb49db96",
   "metadata": {},
   "outputs": [],
   "source": [
    "n_b = np.array([100,101,102,103,104,105])"
   ]
  },
  {
   "cell_type": "code",
   "execution_count": 27,
   "id": "b31b31ce",
   "metadata": {},
   "outputs": [],
   "source": [
    "n_c = np.concatenate([n_a,n_b])"
   ]
  },
  {
   "cell_type": "code",
   "execution_count": 28,
   "id": "a23769e3",
   "metadata": {},
   "outputs": [
    {
     "data": {
      "text/plain": [
       "57.5"
      ]
     },
     "execution_count": 28,
     "metadata": {},
     "output_type": "execute_result"
    }
   ],
   "source": [
    "np.average(n_c)"
   ]
  },
  {
   "cell_type": "code",
   "execution_count": 29,
   "id": "f24a2474",
   "metadata": {},
   "outputs": [],
   "source": [
    "n_random = np.random.random(10)"
   ]
  },
  {
   "cell_type": "code",
   "execution_count": 31,
   "id": "ef108bd1",
   "metadata": {},
   "outputs": [
    {
     "data": {
      "text/plain": [
       "array([0.50971228, 0.04061891, 0.89293851, 0.12431319, 0.65622061,\n",
       "       0.79331538, 0.58776209, 0.73191591, 0.89924801, 0.47471206])"
      ]
     },
     "execution_count": 31,
     "metadata": {},
     "output_type": "execute_result"
    }
   ],
   "source": [
    "n_random"
   ]
  },
  {
   "cell_type": "code",
   "execution_count": 34,
   "id": "e6a3cc1e",
   "metadata": {},
   "outputs": [
    {
     "data": {
      "text/plain": [
       "0.8992480144430625"
      ]
     },
     "execution_count": 34,
     "metadata": {},
     "output_type": "execute_result"
    }
   ],
   "source": [
    "np.max(n_random)"
   ]
  },
  {
   "cell_type": "code",
   "execution_count": 35,
   "id": "8de2e9dc",
   "metadata": {},
   "outputs": [
    {
     "data": {
      "text/plain": [
       "0.0406189102690061"
      ]
     },
     "execution_count": 35,
     "metadata": {},
     "output_type": "execute_result"
    }
   ],
   "source": [
    "np.min(n_random)"
   ]
  },
  {
   "cell_type": "code",
   "execution_count": 36,
   "id": "e847924d",
   "metadata": {},
   "outputs": [
    {
     "data": {
      "text/plain": [
       "array([0.04061891, 0.12431319, 0.47471206, 0.50971228, 0.58776209,\n",
       "       0.65622061, 0.73191591, 0.79331538, 0.89293851, 0.89924801])"
      ]
     },
     "execution_count": 36,
     "metadata": {},
     "output_type": "execute_result"
    }
   ],
   "source": [
    "np.sort(n_random)"
   ]
  },
  {
   "cell_type": "code",
   "execution_count": 37,
   "id": "a122e66a",
   "metadata": {},
   "outputs": [
    {
     "data": {
      "text/plain": [
       "array([1, 3, 9, 0, 6, 4, 7, 5, 2, 8], dtype=int64)"
      ]
     },
     "execution_count": 37,
     "metadata": {},
     "output_type": "execute_result"
    }
   ],
   "source": [
    "np.argsort(n_random)"
   ]
  },
  {
   "cell_type": "code",
   "execution_count": 38,
   "id": "728612bd",
   "metadata": {},
   "outputs": [
    {
     "data": {
      "text/plain": [
       "array([0.04061891, 0.12431319, 0.47471206, 0.50971228, 0.58776209,\n",
       "       0.65622061, 0.73191591, 0.79331538, 0.89293851, 0.89924801])"
      ]
     },
     "execution_count": 38,
     "metadata": {},
     "output_type": "execute_result"
    }
   ],
   "source": [
    "np.sort(n_random)"
   ]
  },
  {
   "cell_type": "code",
   "execution_count": 43,
   "id": "1c32a314",
   "metadata": {},
   "outputs": [
    {
     "data": {
      "text/plain": [
       "array([0.89924801, 0.89293851, 0.79331538, 0.73191591, 0.65622061,\n",
       "       0.58776209, 0.50971228, 0.47471206, 0.12431319, 0.04061891])"
      ]
     },
     "execution_count": 43,
     "metadata": {},
     "output_type": "execute_result"
    }
   ],
   "source": [
    "np.sort(n_random)[::-1]"
   ]
  },
  {
   "cell_type": "code",
   "execution_count": null,
   "id": "d41471cf",
   "metadata": {},
   "outputs": [],
   "source": []
  },
  {
   "cell_type": "code",
   "execution_count": null,
   "id": "b2913fc7",
   "metadata": {},
   "outputs": [],
   "source": []
  }
 ],
 "metadata": {
  "kernelspec": {
   "display_name": "Python 3 (ipykernel)",
   "language": "python",
   "name": "python3"
  },
  "language_info": {
   "codemirror_mode": {
    "name": "ipython",
    "version": 3
   },
   "file_extension": ".py",
   "mimetype": "text/x-python",
   "name": "python",
   "nbconvert_exporter": "python",
   "pygments_lexer": "ipython3",
   "version": "3.8.5"
  }
 },
 "nbformat": 4,
 "nbformat_minor": 5
}
