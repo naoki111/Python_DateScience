{
 "cells": [
  {
   "cell_type": "code",
   "execution_count": 1,
   "id": "0b57b8fb",
   "metadata": {},
   "outputs": [],
   "source": [
    "import matplotlib.pyplot as plt"
   ]
  },
  {
   "cell_type": "code",
   "execution_count": 2,
   "id": "ecf2e0f7",
   "metadata": {},
   "outputs": [],
   "source": [
    "import numpy as np"
   ]
  },
  {
   "cell_type": "code",
   "execution_count": 6,
   "id": "ee3723be",
   "metadata": {},
   "outputs": [],
   "source": [
    "import pandas as pd"
   ]
  },
  {
   "cell_type": "code",
   "execution_count": 3,
   "id": "6daf279f",
   "metadata": {},
   "outputs": [],
   "source": [
    "p = np.random.rand(100)"
   ]
  },
  {
   "cell_type": "code",
   "execution_count": 4,
   "id": "de61c538",
   "metadata": {},
   "outputs": [
    {
     "data": {
      "text/plain": [
       "array([0.36747057, 0.93944207, 0.19831635, 0.62621672, 0.02222169,\n",
       "       0.2532497 , 0.65213782, 0.05873388, 0.74182014, 0.89508501,\n",
       "       0.6212756 , 0.24402836, 0.96147187, 0.5836815 , 0.14480343,\n",
       "       0.09105138, 0.34893058, 0.47330205, 0.76775709, 0.78091038,\n",
       "       0.60769587, 0.92168384, 0.17744986, 0.26406126, 0.88660868,\n",
       "       0.90930859, 0.3392987 , 0.62815452, 0.59501749, 0.40752939,\n",
       "       0.38488876, 0.79125548, 0.68730372, 0.89765375, 0.9266572 ,\n",
       "       0.30546087, 0.6148419 , 0.12703996, 0.32976003, 0.39122215,\n",
       "       0.68173147, 0.91942211, 0.44087671, 0.58536227, 0.76822682,\n",
       "       0.83163446, 0.80870352, 0.90742553, 0.47323927, 0.16654117,\n",
       "       0.39939724, 0.9861422 , 0.1257212 , 0.23575147, 0.18783472,\n",
       "       0.16410963, 0.32950249, 0.04843516, 0.37199366, 0.64206851,\n",
       "       0.04741944, 0.88222771, 0.72326815, 0.63902648, 0.95881364,\n",
       "       0.76560323, 0.44649234, 0.6532715 , 0.3706233 , 0.53129117,\n",
       "       0.17045715, 0.46201903, 0.18211802, 0.37315472, 0.21460822,\n",
       "       0.34386624, 0.6188762 , 0.55160916, 0.28797868, 0.5270604 ,\n",
       "       0.39948506, 0.18768555, 0.89310457, 0.27598487, 0.52639973,\n",
       "       0.71387636, 0.50982647, 0.24841794, 0.7757368 , 0.45266581,\n",
       "       0.2152859 , 0.77787677, 0.37836567, 0.30421666, 0.89207703,\n",
       "       0.73051836, 0.497894  , 0.62326908, 0.07301651, 0.29656874])"
      ]
     },
     "execution_count": 4,
     "metadata": {},
     "output_type": "execute_result"
    }
   ],
   "source": [
    "p"
   ]
  },
  {
   "cell_type": "code",
   "execution_count": 15,
   "id": "029d283c",
   "metadata": {},
   "outputs": [],
   "source": [
    "data = pd.Series(p)"
   ]
  },
  {
   "cell_type": "code",
   "execution_count": 16,
   "id": "4e79acd2",
   "metadata": {},
   "outputs": [
    {
     "data": {
      "text/plain": [
       "0     0.367471\n",
       "1     0.939442\n",
       "2     0.198316\n",
       "3     0.626217\n",
       "4     0.022222\n",
       "        ...   \n",
       "95    0.730518\n",
       "96    0.497894\n",
       "97    0.623269\n",
       "98    0.073017\n",
       "99    0.296569\n",
       "Length: 100, dtype: float64"
      ]
     },
     "execution_count": 16,
     "metadata": {},
     "output_type": "execute_result"
    }
   ],
   "source": [
    "data"
   ]
  },
  {
   "cell_type": "code",
   "execution_count": 17,
   "id": "87225a14",
   "metadata": {},
   "outputs": [],
   "source": [
    "df = pd.DataFrame({'column_1':data})"
   ]
  },
  {
   "cell_type": "code",
   "execution_count": 18,
   "id": "fc310608",
   "metadata": {},
   "outputs": [
    {
     "data": {
      "text/html": [
       "<div>\n",
       "<style scoped>\n",
       "    .dataframe tbody tr th:only-of-type {\n",
       "        vertical-align: middle;\n",
       "    }\n",
       "\n",
       "    .dataframe tbody tr th {\n",
       "        vertical-align: top;\n",
       "    }\n",
       "\n",
       "    .dataframe thead th {\n",
       "        text-align: right;\n",
       "    }\n",
       "</style>\n",
       "<table border=\"1\" class=\"dataframe\">\n",
       "  <thead>\n",
       "    <tr style=\"text-align: right;\">\n",
       "      <th></th>\n",
       "      <th>column_1</th>\n",
       "    </tr>\n",
       "  </thead>\n",
       "  <tbody>\n",
       "    <tr>\n",
       "      <th>0</th>\n",
       "      <td>0.367471</td>\n",
       "    </tr>\n",
       "    <tr>\n",
       "      <th>1</th>\n",
       "      <td>0.939442</td>\n",
       "    </tr>\n",
       "    <tr>\n",
       "      <th>2</th>\n",
       "      <td>0.198316</td>\n",
       "    </tr>\n",
       "    <tr>\n",
       "      <th>3</th>\n",
       "      <td>0.626217</td>\n",
       "    </tr>\n",
       "    <tr>\n",
       "      <th>4</th>\n",
       "      <td>0.022222</td>\n",
       "    </tr>\n",
       "    <tr>\n",
       "      <th>...</th>\n",
       "      <td>...</td>\n",
       "    </tr>\n",
       "    <tr>\n",
       "      <th>95</th>\n",
       "      <td>0.730518</td>\n",
       "    </tr>\n",
       "    <tr>\n",
       "      <th>96</th>\n",
       "      <td>0.497894</td>\n",
       "    </tr>\n",
       "    <tr>\n",
       "      <th>97</th>\n",
       "      <td>0.623269</td>\n",
       "    </tr>\n",
       "    <tr>\n",
       "      <th>98</th>\n",
       "      <td>0.073017</td>\n",
       "    </tr>\n",
       "    <tr>\n",
       "      <th>99</th>\n",
       "      <td>0.296569</td>\n",
       "    </tr>\n",
       "  </tbody>\n",
       "</table>\n",
       "<p>100 rows × 1 columns</p>\n",
       "</div>"
      ],
      "text/plain": [
       "    column_1\n",
       "0   0.367471\n",
       "1   0.939442\n",
       "2   0.198316\n",
       "3   0.626217\n",
       "4   0.022222\n",
       "..       ...\n",
       "95  0.730518\n",
       "96  0.497894\n",
       "97  0.623269\n",
       "98  0.073017\n",
       "99  0.296569\n",
       "\n",
       "[100 rows x 1 columns]"
      ]
     },
     "execution_count": 18,
     "metadata": {},
     "output_type": "execute_result"
    }
   ],
   "source": [
    "df"
   ]
  },
  {
   "cell_type": "code",
   "execution_count": 21,
   "id": "f467d2be",
   "metadata": {},
   "outputs": [
    {
     "name": "stdout",
     "output_type": "stream",
     "text": [
      "         column_1\n",
      "count  100.000000\n",
      "mean     0.505610\n",
      "std      0.270491\n",
      "min      0.022222\n",
      "25%      0.284980\n",
      "50%      0.485598\n",
      "75%      0.733344\n",
      "max      0.986142\n"
     ]
    }
   ],
   "source": [
    "df2 = print(df.describe())"
   ]
  },
  {
   "cell_type": "code",
   "execution_count": 23,
   "id": "1be742b1",
   "metadata": {},
   "outputs": [],
   "source": [
    "df.to_csv('df_data.csv') "
   ]
  },
  {
   "cell_type": "code",
   "execution_count": null,
   "id": "0d1f136e",
   "metadata": {},
   "outputs": [],
   "source": []
  }
 ],
 "metadata": {
  "kernelspec": {
   "display_name": "Python 3 (ipykernel)",
   "language": "python",
   "name": "python3"
  },
  "language_info": {
   "codemirror_mode": {
    "name": "ipython",
    "version": 3
   },
   "file_extension": ".py",
   "mimetype": "text/x-python",
   "name": "python",
   "nbconvert_exporter": "python",
   "pygments_lexer": "ipython3",
   "version": "3.8.5"
  }
 },
 "nbformat": 4,
 "nbformat_minor": 5
}
